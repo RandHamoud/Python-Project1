{
  "nbformat": 4,
  "nbformat_minor": 0,
  "metadata": {
    "colab": {
      "provenance": []
    },
    "kernelspec": {
      "name": "python3",
      "display_name": "Python 3"
    },
    "language_info": {
      "name": "python"
    }
  },
  "cells": [
    {
      "cell_type": "code",
      "execution_count": 3,
      "metadata": {
        "colab": {
          "base_uri": "https://localhost:8080/"
        },
        "id": "DpzubcZOnNeW",
        "outputId": "69e95d2e-aef8-42c2-ecec-72b77b00b121"
      },
      "outputs": [
        {
          "output_type": "stream",
          "name": "stdout",
          "text": [
            "Enter Full Name: Rand Hamoud\n",
            "Enter Email: Rand@gmail.com\n",
            "Enter list of skills (comma-separated): python , sql\n",
            "welcome to tuwaiq!\n",
            "\n",
            "These are the recommended bootcamps based on your skills:\n",
            "DATA SCIENCE\n",
            "DATA SCIENCE\n",
            "WEB DEVELOPMENT BY PYTHON\n",
            "\n",
            "These are the rest of the bootcamps:\n",
            "USER INTERFACE DEVELOPMENT\n",
            "WEB DEVELOPMENT BY JAVA\n",
            "IOS DEVELOPMENT\n",
            "APP DEVELOPMENT USING FLUTTER\n",
            "GAME DEVELOPMENT\n",
            "METAVERSE DEVELOPMENT\n",
            "\n",
            "Please pick a bootcamp to register:data science\n",
            "Thank you for registering in data science \n",
            "\n",
            "Congratulations, You are the last registeree\n"
          ]
        }
      ],
      "source": [
        "\"\"\" Returns user profile\n",
        "This function takes the useful skills and saves\n",
        "the user information into a dictionary. \"\"\"\n",
        "\n",
        "def create_user_profile(fullname, email, skills):\n",
        "    lowercase_skills = [skill.strip().lower() for skill in skills.split(\",\")]\n",
        "\n",
        "    allowed_skills = str(('Python','Git','SQL','HTML','CSS','JavaScript','Java',\n",
        "                        'Spring Boot','Spring Security','Unit Testing','CLI','Django',\n",
        "                        'Swift','SwiftUl','Dart','Flutter','Unity','OPP','Spark AR','Web XR','XR')).lower()\n",
        "\n",
        "    validated_skills = [skill for skill in lowercase_skills if skill in allowed_skills]\n",
        "\n",
        "    user_profile = {\n",
        "        'Name': fullname,\n",
        "        'Email': email,\n",
        "        'Skills': validated_skills\n",
        "    }\n",
        "\n",
        "    print(\"welcome to tuwaiq!\\n\")\n",
        "    return user_profile\n",
        "\n",
        "\n",
        "\"\"\" This code takes the user info and checks his skills\n",
        "to give him bootcamp recommendations based on his skills\n",
        "and keeps track of number of registeree. \"\"\"\n",
        "bootcamps = {\n",
        "    'DATA SCIENCE': [19, ['Python', 'Git', 'SQL']],\n",
        "    'USER INTERFACE DEVELOPMENT': [15, ['HTML', 'CSS', 'JavaScript']],\n",
        "    'WEB DEVELOPMENT BY JAVA': [12, ['Java', 'Spring Boot', 'Spring Security', 'Unit Testing']],\n",
        "    'WEB DEVELOPMENT BY PYTHON': [17, ['CLI', 'GIT', 'Python', 'HTML', 'CSS', 'Django']],\n",
        "    'IOS DEVELOPMENT': [10, ['Swift', 'SwiftUI']],\n",
        "    'APP DEVELOPMENT USING FLUTTER': [11, ['Dart', 'Flutter']],\n",
        "    'GAME DEVELOPMENT': [2, ['Unity', 'OPP']],\n",
        "    'METAVERSE DEVELOPMENT': [3, ['Spark AR', 'Web XR', 'XR']],\n",
        "} #our bootcamps (bootcamp : number of registeree, [list of skills that are recommended for bootcamp])\n",
        "add1 = lambda a : a + 1  #increments by 1\n",
        "\n",
        "\n",
        "name = input(\"Enter Full Name: \")\n",
        "email = input(\"Enter Email: \")\n",
        "skills = input(\"Enter list of skills (comma-separated): \")\n",
        "user_profile = create_user_profile(name, email, skills)\n",
        "\n",
        "\n",
        "recommended = []\n",
        "for key in bootcamps: #loops over bootcamp name\n",
        "    for val in bootcamps [key][1]: #loops over bootcamp recommended skills\n",
        "        for skill in user_profile[\"Skills\"]: #loops over skills in user profile\n",
        "            if str(val).upper() == str(skill).upper(): #checks if any skills match the recommended bootcamp requirment\n",
        "                recommended.append(str(key))\n",
        "                break\n",
        "\n",
        "print(\"These are the recommended bootcamps based on your skills:\")\n",
        "for name in recommended: #prints recommended bootcampsp\n",
        "    print(name)\n",
        "\n",
        "print(\"\\nThese are the rest of the bootcamps:\")\n",
        "for key in bootcamps: #prints the rest of the bootcamps (not recommended)\n",
        "    if key not in recommended:\n",
        "        print(key)\n",
        "\n",
        "while(True): #to repeat if given wrong information\n",
        "    register = input(\"\\nPlease pick a bootcamp to register:\")\n",
        "    if register.upper() in str(bootcamps.keys()).upper(): #checks if bootcamp exists\n",
        "        bootcamps[register.upper()][0] = add1(bootcamps[register.upper()][0]) #increments number of registeree by 1\n",
        "        print(\"Thank you for registering in\", register, \"\\n\")\n",
        "        if bootcamps[register.upper()][0] == 20: #checks if bootcamp limit is reached\n",
        "            del bootcamps[register.upper()] #deletes bootcamp when limit is reached so it doesn't show for others\n",
        "            print(\"Congratulations, You are the last registeree\")\n",
        "            break #breaks out of the while(True) loop\n",
        "        print(\"You are registeree number\", bootcamps[register.upper()][0])\n",
        "        break #breaks out of the while(True) loop\n",
        "    else:\n",
        "        print(\"You entered a wrong course name, please try again\")"
      ]
    },
    {
      "cell_type": "code",
      "source": [],
      "metadata": {
        "id": "9GYWr-dcnUzL"
      },
      "execution_count": null,
      "outputs": []
    }
  ]
}